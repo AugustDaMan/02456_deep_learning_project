{
 "cells": [
  {
   "cell_type": "code",
   "execution_count": 1,
   "metadata": {},
   "outputs": [],
   "source": [
    "import matplotlib\n",
    "import matplotlib.pyplot as plt\n",
    "from IPython.display import Image, display, clear_output\n",
    "import numpy as np\n",
    "%matplotlib nbagg\n",
    "%matplotlib inline\n",
    "import seaborn as sns\n",
    "sns.set_style(\"whitegrid\")\n",
    "sns.set_palette(sns.dark_palette(\"purple\"))\n",
    "\n",
    "try:\n",
    "    from plotting_CIFAR10 import plot_autoencoder_stats\n",
    "except Exception as ex:\n",
    "    print(f\"If using Colab, you may need to upload `plotting.py`. \\\n",
    "          \\nIn the left pannel, click `Files > upload to session storage` and select the file `plotting.py` from your computer \\\n",
    "          \\n---------------------------------------------\")\n",
    "    print(ex)"
   ]
  },
  {
   "cell_type": "markdown",
   "metadata": {},
   "source": [
    "# Unsupservised Learning \n",
    "\n",
    "## Labelling Data is Expensive\n",
    "\n",
    "In supervised machine learning, one aims at learning a mapping $f_{\\psi} : \\mathbf{x} \\in \\mathcal{R}^P \\rightarrow \\mathbf{y}$ from observations $\\mathbf{x}$ to the target $\\mathbf{y}$ using a dataset $\\mathcal{D} = \\{\\mathbf{x}_i, \\mathbf{y}_i\\}_{i=1, \\dots, N}$ of finite size N (e.g. image classification, translation). Because of the curse of dimensionality, high-dimensional inputs (images) and complex the models (deep learning) require large datasets (million of pairs $(\\mathbf{x}, \\mathbf{y})$). In practice, labelling data is expensive (e.g. marking the presence of cancer in X-ray chest scans). \n",
    "\n",
    "## Compression is Comprehension: Learning without Target\n",
    "\n",
    "In order to overcome the curse of dimensionality, we aim at learning a compressed representation $\\mathbf{z} \\in \\mathcal{R}^M$ of $\\mathbf{x}$ such that $M < P$ and there is a mapping $g_{\\phi}: \\mathbf{x} \\rightarrow \\mathbf{z}$ linking each data point to its representation. Ideally, $\\mathbf{z}$ is low-dimensional set of features which efficiently describes $\\mathbf{x}$. As an illustration, when modelling pictures of celebrities (CelebA dataset), the set of facial features (eye color, age, hair lenth, etc..) is a compressed (and lossy) representation of $\\mathbf{x}$. In practice, the representation  $\\mathbf{z}$ is unobservable and [unlikely to overlap with such known features](https://arxiv.org/abs/1811.12359). Yet, the representation $\\mathbf{z}$ is low dimensional and learning a mapping $f_{\\psi} : \\mathbf{z} \\in \\mathcal{R}^M \\rightarrow \\mathbf{y}$ is often easier.\n",
    "\n",
    "Whereas labelling the data is expensive, observations $\\mathbf{x}$ are cheap to acquire. In many cases, one can scrap the web to gather a large collection of images or text. As a result, large deep learning models can be deployed to learn $g_{\\phi}$, and smaller / data-efficient models can be applied downstream to solve the supervised task.\n",
    "\n",
    "\n",
    "\n",
    "# Auto-encoders: Compression as a Generation Process\n",
    "In this notebook you will implement a simple auto-encoder (AE). We assume that you are already familiar with the basics of neural networks. We'll start by defining an AE similar to the one used for the finetuning step by [Geoffrey Hinton and Ruslan Salakhutdinov](https://www.cs.toronto.edu/~hinton/science.pdf). We'll experiment with the AE setup and try to run it on the MNIST dataset. There has been a wide variety of research into the field of auto-encoders and the technique that you're about to learn is very simple compared to modern methods: Masked Autoencoders ([MADE](https://arxiv.org/abs/1502.03509), [BERT](https://arxiv.org/abs/1810.04805)), Variational Autoencoders ([VAE](https://arxiv.org/abs/1312.6114), [VQ-VAE](https://arxiv.org/abs/1711.00937), [BIVA](https://arxiv.org/abs/1902.02102), [NVAE](https://arxiv.org/abs/2007.03898)).\n",
    "\n",
    "In unsupervised learning, we aim at learning compressed representations $\\mathbf{z} \\in \\mathcal{P}$ of $\\mathbf{x} \\in \\mathcal{R}$ where $ M < P$. The architecture of an autoencoder can be decomposed in two steps:\n",
    "\n",
    "1. *Encoding* $\\mathbf{x}$ into a low-dimensional representation $\\mathbf{z}$ using a neural network $g_{\\phi} : \\mathbf{x} \\rightarrow \\mathbf{z}$.\n",
    "2. *Decoding* the representation $\\mathbf{z}$ into a reconstruction $\\hat{\\mathbf{x}} = h_\\theta(\\mathbf{z}) \\in \\mathcal{R}^P$.\n",
    "\n",
    "Because $M < P$, the encoding acts as an information bottleneck: only part of the information describing $\\mathbf{x}$ can be encoded into $\\mathbf{z}$ as long as $M$ is sufficiently small.\n",
    "\n",
    "Learning the parameters of the autoencoder relies on two aspects:\n",
    "\n",
    "1. A distance in the observation space $d : \\mathcal{R}^{P} \\times \\mathcal{R}^{P} \\rightarrow \\mathcal{R}$ (e.g. MSE), measuring the reconstruction quality.\n",
    "2. Using backpropagation coupled with stochastic gradient descent (SGD) to optimize the parameters $\\{\\phi, \\theta\\}$ w.r.t $L := \\frac{1}{N} \\sum_i d(x_i, h_{\\theta}(g_{\\phi}(\\mathbf{x})))$.\n",
    "\n",
    "<img src=\"static/autoencoder.png\" />\n",
    "\n",
    "*The exercises are found at the bottom of the notebook*"
   ]
  },
  {
   "cell_type": "markdown",
   "metadata": {},
   "source": [
    "## MNIST\n",
    "First let us load the MNIST dataset and plot a few examples. In this notebook we will use the *dataloaders* and *datasets* provided by PyTorch. Defining the loading of datasets using a dataloader has the advantage that it only load the data that is *neccessary* into memory, which enables us to use very large scale datasets.\n",
    "\n",
    "We only load a limited amount of classes defined by the `classes` variable to speed up training."
   ]
  },
  {
   "cell_type": "code",
   "execution_count": 2,
   "metadata": {},
   "outputs": [
    {
     "name": "stdout",
     "output_type": "stream",
     "text": [
      "Files already downloaded and verified\n",
      "Files already downloaded and verified\n",
      "used classes: ['cat', 'dog']\n"
     ]
    },
    {
     "data": {
      "text/plain": [
       "'import torch\\ncuda = torch.cuda.is_available()\\n\\nfrom torch.utils.data import DataLoader\\nfrom torch.utils.data.sampler import SubsetRandomSampler\\nfrom torchvision.datasets import CIFAR10\\nfrom torchvision.transforms import ToTensor\\nfrom functools import reduce\\n\\n# Flatten the 2d-array image into a vector\\nflatten = lambda x: ToTensor()(x).view((32**2)*3)\\n\\n# Define the train and test sets\\ndset_train = CIFAR10(\"./\", train=True,  transform=flatten, download=True)\\ndset_test  = CIFAR10(\"./\", train=False, transform=flatten)\\n\\nclass_to_idx = dset_train.class_to_idx\\n\\nclasses = (\\'cat\\', \\'truck\\')\\nclasses_idx = np.zeros((len(classes)))\\n\\nfor i, type in enumerate(classes):\\n    classes_idx[i] = class_to_idx[type]\\n\\n\\ndef stratified_sampler(labels):\\n    \"\"\"Sampler that only picks datapoints corresponding to the specified classes\"\"\"\\n    #(indices,) = np.where(reduce(lambda x, y: x | y, [labels.numpy() == i for i in classes]))\\n    (indices,) = np.where(reduce(lambda x, y: x | y, [np.array(labels) == i for i in classes_idx])) # For CIFAR10\\n    indices = torch.from_numpy(indices)\\n    return SubsetRandomSampler(indices)\\n\\nbatch_size = 64\\neval_batch_size = 100\\n# The loaders perform the actual work\\ntrain_loader = DataLoader(dset_train, batch_size=batch_size,\\n                          sampler=stratified_sampler(dset_train.targets))\\ntest_loader  = DataLoader(dset_test, batch_size=eval_batch_size,\\n                          sampler=stratified_sampler(dset_test.targets))\\n'"
      ]
     },
     "execution_count": 2,
     "metadata": {},
     "output_type": "execute_result"
    }
   ],
   "source": [
    "import torch\n",
    "import torchvision\n",
    "import torchvision.transforms as transforms\n",
    "cuda = torch.cuda.is_available()\n",
    "from torch.utils.data import DataLoader\n",
    "from torch.utils.data.sampler import SubsetRandomSampler\n",
    "from torchvision.transforms import ToTensor\n",
    "from functools import reduce\n",
    "\n",
    "transform = transforms.Compose(\n",
    "    [transforms.ToTensor(),\n",
    "     transforms.Normalize((0.5, 0.5, 0.5),(0.5, 0.5, 0.5))\n",
    "    ]\n",
    ")\n",
    "\n",
    "# Load dataset\n",
    "trainset = torchvision.datasets.CIFAR10(root='./data', train=True,\n",
    "                                        download=True, transform=transform)\n",
    "testset = torchvision.datasets.CIFAR10(root='./data', train=False,\n",
    "                                       download=True, transform=transform)\n",
    "\n",
    "classes = ('plane', 'car', 'bird', 'cat', 'deer',\n",
    "           'dog', 'frog', 'horse', 'ship', 'truck')\n",
    "\n",
    "used_categories = range(len(classes))\n",
    "\n",
    "## USE CODE BELOW IF YOUR COMPUTER IS TOO SLOW\n",
    "reduce_dataset = True\n",
    "if reduce_dataset:\n",
    "    used_categories = (3, 5) # cats and dogs\n",
    "\n",
    "    classes = [classes[i] for i in used_categories]\n",
    "    new_train_data = []\n",
    "    new_train_labels = []\n",
    "\n",
    "    new_test_data = []\n",
    "    new_test_labels = []\n",
    "    for i, t in enumerate(used_categories):\n",
    "        new_train_data.append(trainset.data[np.where(np.array(trainset.targets) == t)])\n",
    "        new_train_labels += [i for _ in range(new_train_data[-1].shape[0])]\n",
    "\n",
    "        new_test_data.append(testset.data[np.where(np.array(testset.targets) == t)])\n",
    "        new_test_labels += [i for _ in range(new_test_data[-1].shape[0])]\n",
    "\n",
    "    new_train_data = np.concatenate(new_train_data, 0)\n",
    "    trainset.data = new_train_data\n",
    "    trainset.targets = new_train_labels\n",
    "\n",
    "    new_test_data = np.concatenate(new_test_data, 0)\n",
    "    testset.data = new_test_data\n",
    "    testset.targets = new_test_labels\n",
    "\n",
    "    \n",
    "batch_size = 4\n",
    "\n",
    "train_loader = torch.utils.data.DataLoader(trainset, batch_size=batch_size,\n",
    "                                          shuffle=True, num_workers=2)\n",
    "test_loader = torch.utils.data.DataLoader(testset, batch_size=batch_size,\n",
    "                                         shuffle=True, num_workers=2)\n",
    "train_data_iter = iter(train_loader)\n",
    "test_data_iter = iter(test_loader)\n",
    "print('used classes:', classes)\n",
    "\n",
    "\n",
    "'''import torch\n",
    "cuda = torch.cuda.is_available()\n",
    "\n",
    "from torch.utils.data import DataLoader\n",
    "from torch.utils.data.sampler import SubsetRandomSampler\n",
    "from torchvision.datasets import CIFAR10\n",
    "from torchvision.transforms import ToTensor\n",
    "from functools import reduce\n",
    "\n",
    "# Flatten the 2d-array image into a vector\n",
    "flatten = lambda x: ToTensor()(x).view((32**2)*3)\n",
    "\n",
    "# Define the train and test sets\n",
    "dset_train = CIFAR10(\"./\", train=True,  transform=flatten, download=True)\n",
    "dset_test  = CIFAR10(\"./\", train=False, transform=flatten)\n",
    "\n",
    "class_to_idx = dset_train.class_to_idx\n",
    "\n",
    "classes = ('cat', 'truck')\n",
    "classes_idx = np.zeros((len(classes)))\n",
    "\n",
    "for i, type in enumerate(classes):\n",
    "    classes_idx[i] = class_to_idx[type]\n",
    "\n",
    "\n",
    "def stratified_sampler(labels):\n",
    "    \"\"\"Sampler that only picks datapoints corresponding to the specified classes\"\"\"\n",
    "    #(indices,) = np.where(reduce(lambda x, y: x | y, [labels.numpy() == i for i in classes]))\n",
    "    (indices,) = np.where(reduce(lambda x, y: x | y, [np.array(labels) == i for i in classes_idx])) # For CIFAR10\n",
    "    indices = torch.from_numpy(indices)\n",
    "    return SubsetRandomSampler(indices)\n",
    "\n",
    "batch_size = 64\n",
    "eval_batch_size = 100\n",
    "# The loaders perform the actual work\n",
    "train_loader = DataLoader(dset_train, batch_size=batch_size,\n",
    "                          sampler=stratified_sampler(dset_train.targets))\n",
    "test_loader  = DataLoader(dset_test, batch_size=eval_batch_size,\n",
    "                          sampler=stratified_sampler(dset_test.targets))\n",
    "'''"
   ]
  },
  {
   "cell_type": "code",
   "execution_count": 3,
   "metadata": {},
   "outputs": [
    {
     "name": "stdout",
     "output_type": "stream",
     "text": [
      "# Training data\n",
      "Number of points: 10000\n",
      "Batch dimension [B x C x H x W]: torch.Size([4, 3, 32, 32])\n",
      "Number of distinct labels: 2\n",
      "\n",
      "# Test data\n",
      "Number of points: 2000\n",
      "Batch dimension [B x C x H x W]: torch.Size([4, 3, 32, 32])\n",
      "Number of distinct labels: 2\n",
      "  cat   dog   cat   dog\n"
     ]
    },
    {
     "data": {
      "text/plain": [
       "'# Plot a batch of MNIST examples\\nf, axarr = plt.subplots(4, 16, figsize=(16, 4))\\n\\n# Load a batch of images into memory\\nimages, labels = next(iter(train_loader))\\n\\nfor i, ax in enumerate(axarr.flat):\\n    #ax.imshow(images[i].view(32, 32), cmap=\"binary_r\")\\n    r = images[i][0:1024].view(32, 32)\\n    g = images[i][1024:1024*2].view(32, 32)\\n    b = images[i][1024*2:1024*3].view(32, 32)\\n    im = torch.stack((r, g, b), dim=2)\\n    ax.imshow(im)\\n    #ax.imshow(images[i][0:3072].view(32, 32, 3))\\n    ax.axis(\\'off\\')\\n    \\nplt.suptitle(\\'MNIST handwritten digits\\')\\nplt.show()'"
      ]
     },
     "execution_count": 3,
     "metadata": {},
     "output_type": "execute_result"
    },
    {
     "data": {
      "image/png": "[encoded data removed]",
      "text/plain": [
       "<Figure size 432x288 with 1 Axes>"
      ]
     },
     "metadata": {},
     "output_type": "display_data"
    }
   ],
   "source": [
    "print(\"# Training data\")\n",
    "print(\"Number of points:\", len(trainset))\n",
    "x, y = next(iter(train_loader))\n",
    "print(\"Batch dimension [B x C x H x W]:\", x.shape)\n",
    "print(\"Number of distinct labels:\", len(set(trainset.targets)))\n",
    "\n",
    "\n",
    "print(\"\\n# Test data\")\n",
    "print(\"Number of points:\", len(testset))\n",
    "x, y = next(iter(test_loader))\n",
    "print(\"Batch dimension [B x C x H x W]:\", x.shape)\n",
    "print(\"Number of distinct labels:\", len(set(testset.targets)))\n",
    "\n",
    "# Run this cell multiple time to see more samples\n",
    "\n",
    "def imshow(img):\n",
    "    \"\"\" show an image \"\"\"\n",
    "    img = img / 2 + 0.5 # unnormalize\n",
    "    npimg = img.numpy()\n",
    "    plt.imshow(np.transpose(npimg, (1, 2, 0)))\n",
    "\n",
    "\n",
    "# get some random training images\n",
    "images, labels = train_data_iter.next()\n",
    "\n",
    "# show images\n",
    "imshow(torchvision.utils.make_grid(images))\n",
    "\n",
    "# print labels\n",
    "print(' '.join('%5s' % classes[labels[j]] for j in range(4)))\n",
    "\n",
    "\n",
    "'''# Plot a batch of MNIST examples\n",
    "f, axarr = plt.subplots(4, 16, figsize=(16, 4))\n",
    "\n",
    "# Load a batch of images into memory\n",
    "images, labels = next(iter(train_loader))\n",
    "\n",
    "for i, ax in enumerate(axarr.flat):\n",
    "    #ax.imshow(images[i].view(32, 32), cmap=\"binary_r\")\n",
    "    r = images[i][0:1024].view(32, 32)\n",
    "    g = images[i][1024:1024*2].view(32, 32)\n",
    "    b = images[i][1024*2:1024*3].view(32, 32)\n",
    "    im = torch.stack((r, g, b), dim=2)\n",
    "    ax.imshow(im)\n",
    "    #ax.imshow(images[i][0:3072].view(32, 32, 3))\n",
    "    ax.axis('off')\n",
    "    \n",
    "plt.suptitle('MNIST handwritten digits')\n",
    "plt.show()'''"
   ]
  },
  {
   "cell_type": "markdown",
   "metadata": {},
   "source": [
    "### Building the model\n",
    "When defining the model the latent layer $z$ must act as a bottleneck of information. We initialize the AE with 1 hidden layer in the encoder and decoder using ReLU units as nonlinearities. The latent layer has a dimensionality of 2 in order to make it easy to visualise. Since $x$ are pixel intensities that are normalized between 0 and 1, we use the sigmoid nonlinearity to model the reconstruction."
   ]
  },
  {
   "cell_type": "code",
   "execution_count": 4,
   "metadata": {},
   "outputs": [
    {
     "name": "stdout",
     "output_type": "stream",
     "text": [
      "conv dim uni 30\n",
      "conv dim uni 30\n",
      "AutoEncoder(\n",
      "  (conv_encode_block_1): Sequential(\n",
      "    (0): Conv2d(3, 5, kernel_size=(3, 3), stride=(1, 1))\n",
      "    (1): ReLU()\n",
      "  )\n",
      "  (lin_encode_block_1): Sequential(\n",
      "    (0): Linear(in_features=4500, out_features=500, bias=True)\n",
      "    (1): ReLU()\n",
      "    (2): Linear(in_features=500, out_features=100, bias=True)\n",
      "  )\n",
      "  (lin_decode_block_1): Sequential(\n",
      "    (0): Linear(in_features=100, out_features=500, bias=True)\n",
      "    (1): ReLU()\n",
      "    (2): Linear(in_features=500, out_features=1000, bias=True)\n",
      "    (3): ReLU()\n",
      "    (4): Linear(in_features=1000, out_features=3072, bias=True)\n",
      "  )\n",
      ")\n"
     ]
    }
   ],
   "source": [
    "import torch.nn as nn\n",
    "#from torch.nn import Linear, Conv2d, BatchNorm2d, MaxPool2d, Dropout2d\n",
    "#from torch.nn.functional import relu, elu, relu6, sigmoid, tanh, softmax\n",
    "\n",
    "# define size variables\n",
    "num_features = (32**2)*3\n",
    "\n",
    "\n",
    "# hyperameters of the model\n",
    "num_classes = 2\n",
    "channels = 3\n",
    "height = 32\n",
    "width = 32\n",
    "num_filters_conv1 = 5\n",
    "kernel_size_conv1 = 3 # [height, width]\n",
    "stride_conv1 = 1 # [stride_height, stride_width]\n",
    "num_l1 = 100\n",
    "padding_conv1 = 0\n",
    "\n",
    "# Second conv layer\n",
    "num_filters_conv2 = 8\n",
    "kernel_size_conv2 = 5\n",
    "padding_conv2 = 0\n",
    "stride_conv2 = 1\n",
    "\n",
    "# Encoder\n",
    "hE1 = 500\n",
    "hE2 = 0\n",
    "\n",
    "# Decoder\n",
    "hD1 = 500\n",
    "hD2 = 1000\n",
    "\n",
    "def compute_conv_dim_uni(dim_size, kernel_size, padding, stride):\n",
    "    print(\"conv dim uni\", int((dim_size - kernel_size + 2 * padding) / stride + 1))\n",
    "    return int((dim_size - kernel_size + 2 * padding) / stride + 1)\n",
    "\n",
    "\n",
    "# First conv layer\n",
    "conv_out_height = compute_conv_dim_uni(height, kernel_size_conv1, padding_conv1, stride_conv1)\n",
    "conv_out_width= compute_conv_dim_uni(width, kernel_size_conv1, padding_conv1, stride_conv1)\n",
    "\n",
    "l1_in_features = num_filters_conv1 * conv_out_height * conv_out_width\n",
    "\n",
    "class AutoEncoder(nn.Module):\n",
    "    def __init__(self, latent_features=2):\n",
    "        super(AutoEncoder, self).__init__()\n",
    "        # We typically employ an \"hourglass\" structure\n",
    "        # meaning that the decoder should be an encoder\n",
    "        # in reverse.\n",
    "\n",
    "        # Encoder\n",
    "        self.conv_encode_block_1 = nn.Sequential(\n",
    "            nn.Conv2d(in_channels=channels, out_channels=num_filters_conv1,\n",
    "                      kernel_size=kernel_size_conv1, stride=stride_conv1),\n",
    "            nn.ReLU()\n",
    "        )\n",
    "\n",
    "        self.lin_encode_block_1 = nn.Sequential(\n",
    "            nn.Linear(in_features=l1_in_features, out_features=hE1),\n",
    "            nn.ReLU(),\n",
    "            # bottleneck layer\n",
    "            nn.Linear(in_features=hE1, out_features=latent_features)\n",
    "        )\n",
    "\n",
    "        # Decoder\n",
    "        self.lin_decode_block_1 = nn.Sequential(\n",
    "            nn.Linear(in_features=latent_features, out_features=hD1),\n",
    "            nn.ReLU(),\n",
    "            nn.Linear(in_features=hD1, out_features=hD2),\n",
    "            nn.ReLU(),\n",
    "            # output layer, projecting back to image size\n",
    "            nn.Linear(in_features=hD2, out_features=num_features)\n",
    "        )\n",
    "\n",
    "    def forward(self, x): \n",
    "        outputs = {}\n",
    "        # we don't apply an activation to the bottleneck layer\n",
    "\n",
    "        ## ENCODER ##\n",
    "        # Convolutional layer 1\n",
    "        x = self.conv_encode_block_1(x)\n",
    "\n",
    "        # Change dimensions s.t. the features can be used in the FFNN layer\n",
    "        x = torch.flatten(x, 1, -1)\n",
    "\n",
    "        # FFNN layer 1\n",
    "        z = self.lin_encode_block_1(x)\n",
    "\n",
    "\n",
    "        ## DECODER ##\n",
    "        # FFNN layer 1\n",
    "        x_hat = self.lin_decode_block_1(z)\n",
    "\n",
    "        # apply sigmoid to output to get pixel intensities between 0 and 1\n",
    "        x_hat = torch.sigmoid(x_hat)\n",
    "        \n",
    "        return {\n",
    "            'z': z,\n",
    "            'x_hat': x_hat\n",
    "        }\n",
    "\n",
    "\n",
    "# Choose the shape of the autoencoder\n",
    "net = AutoEncoder(latent_features=100)\n",
    "\n",
    "if cuda:\n",
    "    net = net.cuda()\n",
    "\n",
    "print(net)"
   ]
  },
  {
   "cell_type": "markdown",
   "metadata": {},
   "source": [
    "Following we define the PyTorch functions for training and evaluation."
   ]
  },
  {
   "cell_type": "code",
   "execution_count": 5,
   "metadata": {},
   "outputs": [],
   "source": [
    "import torch.optim as optim\n",
    "\n",
    "# if you want L2 regularization, then add weight_decay to SGD\n",
    "optimizer = optim.SGD(net.parameters(), lr=0.25)\n",
    "\n",
    "# We will use pixel wise mean-squared error as our loss function\n",
    "loss_function = nn.MSELoss()"
   ]
  },
  {
   "cell_type": "markdown",
   "metadata": {},
   "source": [
    "We can test the forward pass by checking whether the output shape is the same as the as the input."
   ]
  },
  {
   "cell_type": "code",
   "execution_count": 6,
   "metadata": {},
   "outputs": [
    {
     "name": "stdout",
     "output_type": "stream",
     "text": [
      "x.shape = torch.Size([4, 3, 32, 32])\n",
      "x_hat.shape = torch.Size([4, 3072])\n"
     ]
    }
   ],
   "source": [
    "# test the forward pass\n",
    "# expect output size of [32, num_features]\n",
    "x, y = next(iter(train_loader))\n",
    "print(f\"x.shape = {x.shape}\")\n",
    "\n",
    "if cuda:\n",
    "    x = x.cuda()\n",
    "\n",
    "#outputs = net(x.view(64,3,32,32))\n",
    "outputs = net(x)\n",
    "print(f\"x_hat.shape = {outputs['x_hat'].shape}\")\n"
   ]
  },
  {
   "cell_type": "markdown",
   "metadata": {},
   "source": [
    "In the training loop we sample each batch and evaluate the error, latent space, and reconstructions on every epoch.\n",
    "\n",
    "**NOTE** this will take a while on CPU."
   ]
  },
  {
   "cell_type": "code",
   "execution_count": 7,
   "metadata": {
    "pycharm": {
     "is_executing": true
    }
   },
   "outputs": [
    {
     "name": "stderr",
     "output_type": "stream",
     "text": [
      "C:\\Users\\augus\\anaconda3\\envs\\deep_learning\\lib\\site-packages\\torch\\nn\\modules\\loss.py:520: UserWarning: Using a target size (torch.Size([4, 3, 32, 32])) that is different to the input size (torch.Size([4, 3072])). This will likely lead to incorrect results due to broadcasting. Please ensure they have the same size.\n",
      "  return F.mse_loss(input, target, reduction=self.reduction)\n"
     ]
    },
    {
     "ename": "RuntimeError",
     "evalue": "The size of tensor a (3072) must match the size of tensor b (32) at non-singleton dimension 3",
     "output_type": "error",
     "traceback": [
      "\u001b[1;31m---------------------------------------------------------------------------\u001b[0m",
      "\u001b[1;31mRuntimeError\u001b[0m                              Traceback (most recent call last)",
      "\u001b[1;32m~\\AppData\\Local\\Temp/ipykernel_6284/4120231964.py\u001b[0m in \u001b[0;36m<module>\u001b[1;34m\u001b[0m\n\u001b[0;32m     22\u001b[0m \u001b[1;33m\u001b[0m\u001b[0m\n\u001b[0;32m     23\u001b[0m         \u001b[1;31m# note, target is the original tensor, as we're working with auto-encoders\u001b[0m\u001b[1;33m\u001b[0m\u001b[1;33m\u001b[0m\u001b[1;33m\u001b[0m\u001b[0m\n\u001b[1;32m---> 24\u001b[1;33m         \u001b[0mloss\u001b[0m \u001b[1;33m=\u001b[0m \u001b[0mloss_function\u001b[0m\u001b[1;33m(\u001b[0m\u001b[0mx_hat\u001b[0m\u001b[1;33m,\u001b[0m \u001b[0mx\u001b[0m\u001b[1;33m)\u001b[0m\u001b[1;33m\u001b[0m\u001b[1;33m\u001b[0m\u001b[0m\n\u001b[0m\u001b[0;32m     25\u001b[0m \u001b[1;33m\u001b[0m\u001b[0m\n\u001b[0;32m     26\u001b[0m         \u001b[0moptimizer\u001b[0m\u001b[1;33m.\u001b[0m\u001b[0mzero_grad\u001b[0m\u001b[1;33m(\u001b[0m\u001b[1;33m)\u001b[0m\u001b[1;33m\u001b[0m\u001b[1;33m\u001b[0m\u001b[0m\n",
      "\u001b[1;32m~\\anaconda3\\envs\\deep_learning\\lib\\site-packages\\torch\\nn\\modules\\module.py\u001b[0m in \u001b[0;36m_call_impl\u001b[1;34m(self, *input, **kwargs)\u001b[0m\n\u001b[0;32m   1100\u001b[0m         if not (self._backward_hooks or self._forward_hooks or self._forward_pre_hooks or _global_backward_hooks\n\u001b[0;32m   1101\u001b[0m                 or _global_forward_hooks or _global_forward_pre_hooks):\n\u001b[1;32m-> 1102\u001b[1;33m             \u001b[1;32mreturn\u001b[0m \u001b[0mforward_call\u001b[0m\u001b[1;33m(\u001b[0m\u001b[1;33m*\u001b[0m\u001b[0minput\u001b[0m\u001b[1;33m,\u001b[0m \u001b[1;33m**\u001b[0m\u001b[0mkwargs\u001b[0m\u001b[1;33m)\u001b[0m\u001b[1;33m\u001b[0m\u001b[1;33m\u001b[0m\u001b[0m\n\u001b[0m\u001b[0;32m   1103\u001b[0m         \u001b[1;31m# Do not call functions when jit is used\u001b[0m\u001b[1;33m\u001b[0m\u001b[1;33m\u001b[0m\u001b[1;33m\u001b[0m\u001b[0m\n\u001b[0;32m   1104\u001b[0m         \u001b[0mfull_backward_hooks\u001b[0m\u001b[1;33m,\u001b[0m \u001b[0mnon_full_backward_hooks\u001b[0m \u001b[1;33m=\u001b[0m \u001b[1;33m[\u001b[0m\u001b[1;33m]\u001b[0m\u001b[1;33m,\u001b[0m \u001b[1;33m[\u001b[0m\u001b[1;33m]\u001b[0m\u001b[1;33m\u001b[0m\u001b[1;33m\u001b[0m\u001b[0m\n",
      "\u001b[1;32m~\\anaconda3\\envs\\deep_learning\\lib\\site-packages\\torch\\nn\\modules\\loss.py\u001b[0m in \u001b[0;36mforward\u001b[1;34m(self, input, target)\u001b[0m\n\u001b[0;32m    518\u001b[0m \u001b[1;33m\u001b[0m\u001b[0m\n\u001b[0;32m    519\u001b[0m     \u001b[1;32mdef\u001b[0m \u001b[0mforward\u001b[0m\u001b[1;33m(\u001b[0m\u001b[0mself\u001b[0m\u001b[1;33m,\u001b[0m \u001b[0minput\u001b[0m\u001b[1;33m:\u001b[0m \u001b[0mTensor\u001b[0m\u001b[1;33m,\u001b[0m \u001b[0mtarget\u001b[0m\u001b[1;33m:\u001b[0m \u001b[0mTensor\u001b[0m\u001b[1;33m)\u001b[0m \u001b[1;33m->\u001b[0m \u001b[0mTensor\u001b[0m\u001b[1;33m:\u001b[0m\u001b[1;33m\u001b[0m\u001b[1;33m\u001b[0m\u001b[0m\n\u001b[1;32m--> 520\u001b[1;33m         \u001b[1;32mreturn\u001b[0m \u001b[0mF\u001b[0m\u001b[1;33m.\u001b[0m\u001b[0mmse_loss\u001b[0m\u001b[1;33m(\u001b[0m\u001b[0minput\u001b[0m\u001b[1;33m,\u001b[0m \u001b[0mtarget\u001b[0m\u001b[1;33m,\u001b[0m \u001b[0mreduction\u001b[0m\u001b[1;33m=\u001b[0m\u001b[0mself\u001b[0m\u001b[1;33m.\u001b[0m\u001b[0mreduction\u001b[0m\u001b[1;33m)\u001b[0m\u001b[1;33m\u001b[0m\u001b[1;33m\u001b[0m\u001b[0m\n\u001b[0m\u001b[0;32m    521\u001b[0m \u001b[1;33m\u001b[0m\u001b[0m\n\u001b[0;32m    522\u001b[0m \u001b[1;33m\u001b[0m\u001b[0m\n",
      "\u001b[1;32m~\\anaconda3\\envs\\deep_learning\\lib\\site-packages\\torch\\nn\\functional.py\u001b[0m in \u001b[0;36mmse_loss\u001b[1;34m(input, target, size_average, reduce, reduction)\u001b[0m\n\u001b[0;32m   3109\u001b[0m         \u001b[0mreduction\u001b[0m \u001b[1;33m=\u001b[0m \u001b[0m_Reduction\u001b[0m\u001b[1;33m.\u001b[0m\u001b[0mlegacy_get_string\u001b[0m\u001b[1;33m(\u001b[0m\u001b[0msize_average\u001b[0m\u001b[1;33m,\u001b[0m \u001b[0mreduce\u001b[0m\u001b[1;33m)\u001b[0m\u001b[1;33m\u001b[0m\u001b[1;33m\u001b[0m\u001b[0m\n\u001b[0;32m   3110\u001b[0m \u001b[1;33m\u001b[0m\u001b[0m\n\u001b[1;32m-> 3111\u001b[1;33m     \u001b[0mexpanded_input\u001b[0m\u001b[1;33m,\u001b[0m \u001b[0mexpanded_target\u001b[0m \u001b[1;33m=\u001b[0m \u001b[0mtorch\u001b[0m\u001b[1;33m.\u001b[0m\u001b[0mbroadcast_tensors\u001b[0m\u001b[1;33m(\u001b[0m\u001b[0minput\u001b[0m\u001b[1;33m,\u001b[0m \u001b[0mtarget\u001b[0m\u001b[1;33m)\u001b[0m\u001b[1;33m\u001b[0m\u001b[1;33m\u001b[0m\u001b[0m\n\u001b[0m\u001b[0;32m   3112\u001b[0m     \u001b[1;32mreturn\u001b[0m \u001b[0mtorch\u001b[0m\u001b[1;33m.\u001b[0m\u001b[0m_C\u001b[0m\u001b[1;33m.\u001b[0m\u001b[0m_nn\u001b[0m\u001b[1;33m.\u001b[0m\u001b[0mmse_loss\u001b[0m\u001b[1;33m(\u001b[0m\u001b[0mexpanded_input\u001b[0m\u001b[1;33m,\u001b[0m \u001b[0mexpanded_target\u001b[0m\u001b[1;33m,\u001b[0m \u001b[0m_Reduction\u001b[0m\u001b[1;33m.\u001b[0m\u001b[0mget_enum\u001b[0m\u001b[1;33m(\u001b[0m\u001b[0mreduction\u001b[0m\u001b[1;33m)\u001b[0m\u001b[1;33m)\u001b[0m\u001b[1;33m\u001b[0m\u001b[1;33m\u001b[0m\u001b[0m\n\u001b[0;32m   3113\u001b[0m \u001b[1;33m\u001b[0m\u001b[0m\n",
      "\u001b[1;32m~\\anaconda3\\envs\\deep_learning\\lib\\site-packages\\torch\\functional.py\u001b[0m in \u001b[0;36mbroadcast_tensors\u001b[1;34m(*tensors)\u001b[0m\n\u001b[0;32m     70\u001b[0m     \u001b[1;32mif\u001b[0m \u001b[0mhas_torch_function\u001b[0m\u001b[1;33m(\u001b[0m\u001b[0mtensors\u001b[0m\u001b[1;33m)\u001b[0m\u001b[1;33m:\u001b[0m\u001b[1;33m\u001b[0m\u001b[1;33m\u001b[0m\u001b[0m\n\u001b[0;32m     71\u001b[0m         \u001b[1;32mreturn\u001b[0m \u001b[0mhandle_torch_function\u001b[0m\u001b[1;33m(\u001b[0m\u001b[0mbroadcast_tensors\u001b[0m\u001b[1;33m,\u001b[0m \u001b[0mtensors\u001b[0m\u001b[1;33m,\u001b[0m \u001b[1;33m*\u001b[0m\u001b[0mtensors\u001b[0m\u001b[1;33m)\u001b[0m\u001b[1;33m\u001b[0m\u001b[1;33m\u001b[0m\u001b[0m\n\u001b[1;32m---> 72\u001b[1;33m     \u001b[1;32mreturn\u001b[0m \u001b[0m_VF\u001b[0m\u001b[1;33m.\u001b[0m\u001b[0mbroadcast_tensors\u001b[0m\u001b[1;33m(\u001b[0m\u001b[0mtensors\u001b[0m\u001b[1;33m)\u001b[0m  \u001b[1;31m# type: ignore[attr-defined]\u001b[0m\u001b[1;33m\u001b[0m\u001b[1;33m\u001b[0m\u001b[0m\n\u001b[0m\u001b[0;32m     73\u001b[0m \u001b[1;33m\u001b[0m\u001b[0m\n\u001b[0;32m     74\u001b[0m \u001b[1;33m\u001b[0m\u001b[0m\n",
      "\u001b[1;31mRuntimeError\u001b[0m: The size of tensor a (3072) must match the size of tensor b (32) at non-singleton dimension 3"
     ]
    }
   ],
   "source": [
    "from sklearn.manifold import TSNE\n",
    "from sklearn.decomposition import PCA\n",
    "\n",
    "num_epochs = 5\n",
    "\n",
    "train_loss = []\n",
    "valid_loss = []\n",
    "\n",
    "for epoch in range(num_epochs):\n",
    "    batch_loss = []\n",
    "    net.train()\n",
    "    \n",
    "    # Go through each batch in the training dataset using the loader\n",
    "    # Note that y is not necessarily known as it is here\n",
    "    for x, y in train_loader:\n",
    "        \n",
    "        if cuda:\n",
    "            x = x.cuda()\n",
    "        \n",
    "        outputs = net(x)\n",
    "        x_hat = outputs['x_hat']\n",
    "\n",
    "        # note, target is the original tensor, as we're working with auto-encoders\n",
    "        loss = loss_function(x_hat, x)\n",
    "        \n",
    "        optimizer.zero_grad()\n",
    "        loss.backward()\n",
    "        optimizer.step()\n",
    "        \n",
    "        batch_loss.append(loss.item())\n",
    "\n",
    "    train_loss.append(np.mean(batch_loss))\n",
    "\n",
    "    # Evaluate, do not propagate gradients\n",
    "    with torch.no_grad():\n",
    "        net.eval()\n",
    "        \n",
    "        # Just load a single batch from the test loader\n",
    "        x, y = next(iter(test_loader))\n",
    "        \n",
    "        if cuda:\n",
    "            x = x.cuda()\n",
    "        \n",
    "        outputs = net(x)\n",
    "\n",
    "        # We save the latent variable and reconstruction for later use\n",
    "        # we will need them on the CPU to plot\n",
    "        x_hat = outputs['x_hat']\n",
    "        z = outputs['z'].cpu().numpy()\n",
    "\n",
    "        loss = loss_function(x_hat, x)\n",
    "\n",
    "        valid_loss.append(loss.item())\n",
    "    \n",
    "    if epoch == 0:\n",
    "        continue\n",
    "\n",
    "    # live plotting of the trainig curves and representation\n",
    "    plot_autoencoder_stats(x=x,\n",
    "                           x_hat=x_hat,\n",
    "                           z=z,\n",
    "                           y=y,\n",
    "                           train_loss=train_loss,\n",
    "                           valid_loss=valid_loss,\n",
    "                           epoch=epoch,\n",
    "                           #classes=classes,\n",
    "                           classes=used_categories,\n",
    "                           dimensionality_reduction_op=None) # = lambda z: TSNE(n_components=2).fit_transform(z)\n",
    "    \n",
    "   "
   ]
  },
  {
   "cell_type": "markdown",
   "metadata": {},
   "source": [
    "# Assignments"
   ]
  },
  {
   "cell_type": "markdown",
   "metadata": {},
   "source": [
    "## Assignment 1 - Analyzing the AE\n",
    "1. The above implementation of an AE is very simple.\n",
    "    - Experiment with the number of layers and try different non-linearities in order to improve the reconstructions\n",
    "    - What happens with the network when we change the non-linearities in the latent layer (e.g. sigmoid)?\n",
    "    - Try to increase the number of digit classes in the training set and analyze the results\n",
    "    - Test different optimization algorithms such as ADAM and RMSProp and decide whether you should use regularizers\n",
    "       \n",
    "2. Currently we optimize w.r.t. mean squared error. \n",
    "    - Find another error function that could fit this problem better\n",
    "    - Evaluate whether the similarity function $d$ is a better choice and explain your findings\n",
    "\n",
    "3. Complexity of the bottleneck.\n",
    "    - Increase the number of units in the latent layer and train\n",
    "    - Visualize by using [PCA](http://scikit-learn.org/stable/modules/generated/sklearn.decomposition.PCA.html) or [t-SNE](http://scikit-learn.org/stable/modules/generated/sklearn.manifold.TSNE.html)"
   ]
  },
  {
   "cell_type": "markdown",
   "metadata": {},
   "source": [
    "## Assignment 2 - Adding classification for semi-supervised learning\n",
    "\n",
    "The above training has been performed unsupervised. Now let us assume that we only have a fraction of labeled data points from each class. As we know, semi-supervised learning can be utilized by combining unsupervised and supervised learning. Now you must analyze whether a trained AE from the above exercise can aid a classifier.\n",
    "\n",
    "1. Build a simple classifier (like the ones from week1) where you:\n",
    "    - Train on the labeled dataset and evaluate the results\n",
    "2. Build a second classifier and train on the latent output $\\mathbf{z}$ of the AE.\n",
    "3. Build a third classifier and train on the reconstructions of the AE.\n",
    "4. Evaluate the classifiers against each other and implement a model that improves the classification by combining the input, latent output, and reconstruction.\n",
    "\n",
    "Below we provide some starting code for using only a subset of the labelled data."
   ]
  },
  {
   "cell_type": "code",
   "execution_count": null,
   "metadata": {
    "pycharm": {
     "is_executing": true
    }
   },
   "outputs": [],
   "source": [
    "def uniform_stratified_sampler(labels, classes, n=None):\n",
    "    \"\"\"\n",
    "    Stratified sampler that distributes labels uniformly by\n",
    "    sampling at most n data points per class\n",
    "    \"\"\"\n",
    "    from functools import reduce\n",
    "    # Only choose digits in n_labels\n",
    "    (indices,) = np.where(reduce(lambda x, y: x | y, [labels.numpy() == i for i in classes]))\n",
    "\n",
    "    # Ensure uniform distribution of labels\n",
    "    np.random.shuffle(indices)\n",
    "    indices = np.hstack([list(filter(lambda idx: labels[idx] == i, indices))[:n] for i in classes])\n",
    "\n",
    "    indices = torch.from_numpy(indices)\n",
    "    sampler = SubsetRandomSampler(indices)\n",
    "    return sampler\n",
    "\n",
    "\n",
    "batch_size = 64\n",
    "\n",
    "# Specify how many labelled examples we want per digit class\n",
    "labels_per_class = 10\n",
    "\n",
    "# Large pool of unlabelled data\n",
    "unlabelled = DataLoader(dset_train, batch_size=batch_size, \n",
    "                        sampler=stratified_sampler(dset_train.train_labels, classes=classes), pin_memory=cuda)\n",
    "\n",
    "# Smaller pool of labelled data\n",
    "labelled = DataLoader(dset_train, batch_size=batch_size,\n",
    "                      sampler=uniform_stratified_sampler(dset_train.train_labels, classes=classes, labels_per_class),\n",
    "                      pin_memory=cuda)"
   ]
  },
  {
   "cell_type": "code",
   "execution_count": null,
   "metadata": {
    "pycharm": {
     "is_executing": true
    }
   },
   "outputs": [],
   "source": [
    "from itertools import cycle\n",
    "\n",
    "# This is an example of how you can use both the labelled\n",
    "# and unlabelled loader in unison\n",
    "\n",
    "### Define your classifier ###\n",
    "\n",
    "num_epochs = 100\n",
    "for epoch in range(num_epochs):\n",
    "    \n",
    "    # Go through both labelled and unlabelled data\n",
    "    for (x, y), (u, _) in zip(cycle(labelled), unlabelled):\n",
    "        \n",
    "        if cuda:\n",
    "            x, y, u = x.cuda(), y.cuda(), u.cuda()\n",
    "        \n",
    "        # Send labelled data through autoencoder\n",
    "        outputs = net(x)\n",
    "\n",
    "        ### Define your loss function ###\n",
    "        loss = 0\n",
    "        \n",
    "        optimizer.zero_grad()\n",
    "        loss.backward()\n",
    "        optimizer.step()"
   ]
  },
  {
   "cell_type": "code",
   "execution_count": null,
   "metadata": {
    "pycharm": {
     "name": "#%%\n"
    }
   },
   "outputs": [],
   "source": []
  },
  {
   "cell_type": "code",
   "execution_count": null,
   "metadata": {
    "pycharm": {
     "name": "#%%\n"
    }
   },
   "outputs": [],
   "source": []
  },
  {
   "cell_type": "code",
   "execution_count": null,
   "metadata": {
    "pycharm": {
     "name": "#%%\n"
    }
   },
   "outputs": [],
   "source": []
  },
  {
   "cell_type": "code",
   "execution_count": null,
   "metadata": {},
   "outputs": [],
   "source": []
  }
 ],
 "metadata": {
  "kernelspec": {
   "display_name": "Python 3 (ipykernel)",
   "language": "python",
   "name": "python3"
  },
  "language_info": {
   "codemirror_mode": {
    "name": "ipython",
    "version": 3
   },
   "file_extension": ".py",
   "mimetype": "text/x-python",
   "name": "python",
   "nbconvert_exporter": "python",
   "pygments_lexer": "ipython3",
   "version": "3.8.11"
  }
 },
 "nbformat": 4,
 "nbformat_minor": 4
}
